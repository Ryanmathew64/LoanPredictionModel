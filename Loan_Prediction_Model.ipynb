{
  "nbformat": 4,
  "nbformat_minor": 0,
  "metadata": {
    "colab": {
      "name": "Loan Prediction Model.ipynb",
      "provenance": [],
      "collapsed_sections": []
    },
    "kernelspec": {
      "name": "python3",
      "display_name": "Python 3"
    },
    "language_info": {
      "name": "python"
    }
  },
  "cells": [
    {
      "cell_type": "markdown",
      "source": [
        "Utilizing a Linear Regression Machine Learning Model to Predict Loan Eligibility"
      ],
      "metadata": {
        "id": "LqMmrOErke7_"
      }
    },
    {
      "cell_type": "markdown",
      "source": [
        "Setup Tools"
      ],
      "metadata": {
        "id": "xoKTAYC0gdIq"
      }
    },
    {
      "cell_type": "code",
      "execution_count": 5,
      "metadata": {
        "id": "aKk4UxmpRWVN"
      },
      "outputs": [],
      "source": [
        "!pip install -q sklearn"
      ]
    },
    {
      "cell_type": "code",
      "source": [
        "%tensorflow_version 2.x"
      ],
      "metadata": {
        "id": "AHmJYGw-Tlqp"
      },
      "execution_count": 7,
      "outputs": []
    },
    {
      "cell_type": "markdown",
      "source": [
        "Import Packages"
      ],
      "metadata": {
        "id": "JyO0P5BLUAEy"
      }
    },
    {
      "cell_type": "code",
      "source": [
        "from __future__ import absolute_import, division, print_function, unicode_literals\n",
        "\n",
        "import numpy as np\n",
        "import io\n",
        "import pandas as pd\n",
        "import matplotlib.pyplot as plt\n",
        "from IPython.display import clear_output\n",
        "from six.moves import urllib\n",
        "\n",
        "import tensorflow.compat.v2.feature_column as fc\n",
        "\n",
        "import tensorflow as tf"
      ],
      "metadata": {
        "id": "6w8Kmd8WT0ka"
      },
      "execution_count": 10,
      "outputs": []
    },
    {
      "cell_type": "markdown",
      "source": [
        "Load and Parse Datasets"
      ],
      "metadata": {
        "id": "FNHcwS2HUDpl"
      }
    },
    {
      "cell_type": "code",
      "source": [
        "from google.colab import files\n",
        "uploaded = files.upload()"
      ],
      "metadata": {
        "id": "OgBlESkwUGQi"
      },
      "execution_count": null,
      "outputs": []
    },
    {
      "cell_type": "code",
      "source": [
        "from pickle import STRING\n",
        "dftrain = pd.read_csv(io.BytesIO(uploaded['train_u6lujuX_CVtuZ9i.csv']))\n",
        "dfeval = pd.read_csv(io.BytesIO(uploaded['test_Y3wMUE5_7gLdaTN.csv']))\n",
        "\n",
        "# parse dftrain\n",
        "dftrain['Self_Employed'].fillna('', inplace=True)\n",
        "dftrain['Gender'].fillna('', inplace=True)\n",
        "dftrain['Married'].fillna('', inplace=True)\n",
        "dftrain['Education'].fillna('', inplace=True)\n",
        "dftrain['Property_Area'].fillna('', inplace=True)\n",
        "\n",
        "dftrain['LoanAmount'].fillna(0, inplace=True)\n",
        "dftrain['Loan_Amount_Term'].fillna(0, inplace=True)\n",
        "dftrain['Credit_History'].fillna(2, inplace=True)\n",
        "dftrain.Dependents.replace({'3+': 3}, regex=True, inplace=True)\n",
        "dftrain.Dependents.fillna(4, inplace=True)\n",
        "\n",
        "dftrain.Dependents = dftrain.Dependents.astype(float)\n",
        "\n",
        "# parse dfeval\n",
        "dfeval['Self_Employed'].fillna('', inplace=True)\n",
        "dfeval['Gender'].fillna('', inplace=True)\n",
        "dfeval['Married'].fillna('', inplace=True)\n",
        "dfeval['Education'].fillna('', inplace=True)\n",
        "dfeval['Property_Area'].fillna('', inplace=True)\n",
        "\n",
        "dfeval['LoanAmount'].fillna(0, inplace=True)\n",
        "dfeval['Loan_Amount_Term'].fillna(0, inplace=True)\n",
        "dfeval['Credit_History'].fillna(2, inplace=True)\n",
        "dfeval.Dependents.replace({'3+': 3}, regex=True, inplace=True)\n",
        "dfeval.Dependents.fillna(4, inplace=True)\n",
        "\n",
        "dfeval.Dependents = dfeval.Dependents.astype(float) \n",
        "\n",
        "y_train = dftrain.pop('Loan_Status')\n",
        "\n",
        "y_train.replace({'Y': 1}, regex=True, inplace=True)\n",
        "y_train.replace({'N': 0}, regex=True, inplace=True)\n",
        "y_train = y_train.astype(int) "
      ],
      "metadata": {
        "id": "iFgDUsYpXwM8"
      },
      "execution_count": null,
      "outputs": []
    },
    {
      "cell_type": "markdown",
      "source": [
        "Parse Feature Columns"
      ],
      "metadata": {
        "id": "upNC3ZSpfvgL"
      }
    },
    {
      "cell_type": "code",
      "source": [
        "CATEGORICAL_COLUMNS = ['Loan_ID', 'Gender', 'Married', 'Education',\n",
        "                        'Self_Employed', 'Property_Area']\n",
        "NUMERIC_COLUMNS = ['ApplicantIncome', 'CoapplicantIncome', 'LoanAmount', 'Loan_Amount_Term',\n",
        "                   'Credit_History', 'Dependents']\n",
        "\n",
        "feature_columns = []\n",
        "for feature_name in CATEGORICAL_COLUMNS:\n",
        "  vocabulary = dftrain[feature_name].unique() \n",
        "  feature_columns.append(tf.feature_column.categorical_column_with_vocabulary_list(feature_name, vocabulary))\n",
        "\n",
        "for feature_name in NUMERIC_COLUMNS:\n",
        "  feature_columns.append(tf.feature_column.numeric_column(feature_name, dtype=tf.float32))\n",
        "\n",
        "print(feature_columns)"
      ],
      "metadata": {
        "colab": {
          "base_uri": "https://localhost:8080/"
        },
        "id": "ts1t-OP8Yhhv",
        "outputId": "a870c41f-81ce-43e0-9cb6-32e0c2ac76eb"
      },
      "execution_count": 153,
      "outputs": [
        {
          "output_type": "stream",
          "name": "stdout",
          "text": [
            "[VocabularyListCategoricalColumn(key='Loan_ID', vocabulary_list=('LP001002', 'LP001003', 'LP001005', 'LP001006', 'LP001008', 'LP001011', 'LP001013', 'LP001014', 'LP001018', 'LP001020', 'LP001024', 'LP001027', 'LP001028', 'LP001029', 'LP001030', 'LP001032', 'LP001034', 'LP001036', 'LP001038', 'LP001041', 'LP001043', 'LP001046', 'LP001047', 'LP001050', 'LP001052', 'LP001066', 'LP001068', 'LP001073', 'LP001086', 'LP001087', 'LP001091', 'LP001095', 'LP001097', 'LP001098', 'LP001100', 'LP001106', 'LP001109', 'LP001112', 'LP001114', 'LP001116', 'LP001119', 'LP001120', 'LP001123', 'LP001131', 'LP001136', 'LP001137', 'LP001138', 'LP001144', 'LP001146', 'LP001151', 'LP001155', 'LP001157', 'LP001164', 'LP001179', 'LP001186', 'LP001194', 'LP001195', 'LP001197', 'LP001198', 'LP001199', 'LP001205', 'LP001206', 'LP001207', 'LP001213', 'LP001222', 'LP001225', 'LP001228', 'LP001233', 'LP001238', 'LP001241', 'LP001243', 'LP001245', 'LP001248', 'LP001250', 'LP001253', 'LP001255', 'LP001256', 'LP001259', 'LP001263', 'LP001264', 'LP001265', 'LP001266', 'LP001267', 'LP001273', 'LP001275', 'LP001279', 'LP001280', 'LP001282', 'LP001289', 'LP001310', 'LP001316', 'LP001318', 'LP001319', 'LP001322', 'LP001325', 'LP001326', 'LP001327', 'LP001333', 'LP001334', 'LP001343', 'LP001345', 'LP001349', 'LP001350', 'LP001356', 'LP001357', 'LP001367', 'LP001369', 'LP001370', 'LP001379', 'LP001384', 'LP001385', 'LP001387', 'LP001391', 'LP001392', 'LP001398', 'LP001401', 'LP001404', 'LP001405', 'LP001421', 'LP001422', 'LP001426', 'LP001430', 'LP001431', 'LP001432', 'LP001439', 'LP001443', 'LP001448', 'LP001449', 'LP001451', 'LP001465', 'LP001469', 'LP001473', 'LP001478', 'LP001482', 'LP001487', 'LP001488', 'LP001489', 'LP001491', 'LP001492', 'LP001493', 'LP001497', 'LP001498', 'LP001504', 'LP001507', 'LP001508', 'LP001514', 'LP001516', 'LP001518', 'LP001519', 'LP001520', 'LP001528', 'LP001529', 'LP001531', 'LP001532', 'LP001535', 'LP001536', 'LP001541', 'LP001543', 'LP001546', 'LP001552', 'LP001560', 'LP001562', 'LP001565', 'LP001570', 'LP001572', 'LP001574', 'LP001577', 'LP001578', 'LP001579', 'LP001580', 'LP001581', 'LP001585', 'LP001586', 'LP001594', 'LP001603', 'LP001606', 'LP001608', 'LP001610', 'LP001616', 'LP001630', 'LP001633', 'LP001634', 'LP001636', 'LP001637', 'LP001639', 'LP001640', 'LP001641', 'LP001643', 'LP001644', 'LP001647', 'LP001653', 'LP001656', 'LP001657', 'LP001658', 'LP001664', 'LP001665', 'LP001666', 'LP001669', 'LP001671', 'LP001673', 'LP001674', 'LP001677', 'LP001682', 'LP001688', 'LP001691', 'LP001692', 'LP001693', 'LP001698', 'LP001699', 'LP001702', 'LP001708', 'LP001711', 'LP001713', 'LP001715', 'LP001716', 'LP001720', 'LP001722', 'LP001726', 'LP001732', 'LP001734', 'LP001736', 'LP001743', 'LP001744', 'LP001749', 'LP001750', 'LP001751', 'LP001754', 'LP001758', 'LP001760', 'LP001761', 'LP001765', 'LP001768', 'LP001770', 'LP001776', 'LP001778', 'LP001784', 'LP001786', 'LP001788', 'LP001790', 'LP001792', 'LP001798', 'LP001800', 'LP001806', 'LP001807', 'LP001811', 'LP001813', 'LP001814', 'LP001819', 'LP001824', 'LP001825', 'LP001835', 'LP001836', 'LP001841', 'LP001843', 'LP001844', 'LP001846', 'LP001849', 'LP001854', 'LP001859', 'LP001864', 'LP001865', 'LP001868', 'LP001870', 'LP001871', 'LP001872', 'LP001875', 'LP001877', 'LP001882', 'LP001883', 'LP001884', 'LP001888', 'LP001891', 'LP001892', 'LP001894', 'LP001896', 'LP001900', 'LP001903', 'LP001904', 'LP001907', 'LP001908', 'LP001910', 'LP001914', 'LP001915', 'LP001917', 'LP001922', 'LP001924', 'LP001925', 'LP001926', 'LP001931', 'LP001935', 'LP001936', 'LP001938', 'LP001940', 'LP001945', 'LP001947', 'LP001949', 'LP001953', 'LP001954', 'LP001955', 'LP001963', 'LP001964', 'LP001972', 'LP001974', 'LP001977', 'LP001978', 'LP001990', 'LP001993', 'LP001994', 'LP001996', 'LP001998', 'LP002002', 'LP002004', 'LP002006', 'LP002008', 'LP002024', 'LP002031', 'LP002035', 'LP002036', 'LP002043', 'LP002050', 'LP002051', 'LP002053', 'LP002054', 'LP002055', 'LP002065', 'LP002067', 'LP002068', 'LP002082', 'LP002086', 'LP002087', 'LP002097', 'LP002098', 'LP002100', 'LP002101', 'LP002103', 'LP002106', 'LP002110', 'LP002112', 'LP002113', 'LP002114', 'LP002115', 'LP002116', 'LP002119', 'LP002126', 'LP002128', 'LP002129', 'LP002130', 'LP002131', 'LP002137', 'LP002138', 'LP002139', 'LP002140', 'LP002141', 'LP002142', 'LP002143', 'LP002144', 'LP002149', 'LP002151', 'LP002158', 'LP002160', 'LP002161', 'LP002170', 'LP002175', 'LP002178', 'LP002180', 'LP002181', 'LP002187', 'LP002188', 'LP002190', 'LP002191', 'LP002194', 'LP002197', 'LP002201', 'LP002205', 'LP002209', 'LP002211', 'LP002219', 'LP002223', 'LP002224', 'LP002225', 'LP002226', 'LP002229', 'LP002231', 'LP002234', 'LP002236', 'LP002237', 'LP002239', 'LP002243', 'LP002244', 'LP002250', 'LP002255', 'LP002262', 'LP002263', 'LP002265', 'LP002266', 'LP002272', 'LP002277', 'LP002281', 'LP002284', 'LP002287', 'LP002288', 'LP002296', 'LP002297', 'LP002300', 'LP002301', 'LP002305', 'LP002308', 'LP002314', 'LP002315', 'LP002317', 'LP002318', 'LP002319', 'LP002328', 'LP002332', 'LP002335', 'LP002337', 'LP002341', 'LP002342', 'LP002345', 'LP002347', 'LP002348', 'LP002357', 'LP002361', 'LP002362', 'LP002364', 'LP002366', 'LP002367', 'LP002368', 'LP002369', 'LP002370', 'LP002377', 'LP002379', 'LP002386', 'LP002387', 'LP002390', 'LP002393', 'LP002398', 'LP002401', 'LP002403', 'LP002407', 'LP002408', 'LP002409', 'LP002418', 'LP002422', 'LP002424', 'LP002429', 'LP002434', 'LP002435', 'LP002443', 'LP002444', 'LP002446', 'LP002447', 'LP002448', 'LP002449', 'LP002453', 'LP002455', 'LP002459', 'LP002467', 'LP002472', 'LP002473', 'LP002478', 'LP002484', 'LP002487', 'LP002489', 'LP002493', 'LP002494', 'LP002500', 'LP002501', 'LP002502', 'LP002505', 'LP002515', 'LP002517', 'LP002519', 'LP002522', 'LP002524', 'LP002527', 'LP002529', 'LP002530', 'LP002531', 'LP002533', 'LP002534', 'LP002536', 'LP002537', 'LP002541', 'LP002543', 'LP002544', 'LP002545', 'LP002547', 'LP002555', 'LP002556', 'LP002560', 'LP002562', 'LP002571', 'LP002582', 'LP002585', 'LP002586', 'LP002587', 'LP002588', 'LP002600', 'LP002602', 'LP002603', 'LP002606', 'LP002615', 'LP002618', 'LP002619', 'LP002622', 'LP002624', 'LP002625', 'LP002626', 'LP002634', 'LP002637', 'LP002640', 'LP002643', 'LP002648', 'LP002652', 'LP002659', 'LP002670', 'LP002682', 'LP002683', 'LP002684', 'LP002689', 'LP002690', 'LP002692', 'LP002693', 'LP002697', 'LP002699', 'LP002705', 'LP002706', 'LP002714', 'LP002716', 'LP002717', 'LP002720', 'LP002723', 'LP002729', 'LP002731', 'LP002732', 'LP002734', 'LP002738', 'LP002739', 'LP002740', 'LP002741', 'LP002743', 'LP002753', 'LP002755', 'LP002757', 'LP002767', 'LP002768', 'LP002772', 'LP002776', 'LP002777', 'LP002778', 'LP002784', 'LP002785', 'LP002788', 'LP002789', 'LP002792', 'LP002794', 'LP002795', 'LP002798', 'LP002804', 'LP002807', 'LP002813', 'LP002820', 'LP002821', 'LP002832', 'LP002833', 'LP002836', 'LP002837', 'LP002840', 'LP002841', 'LP002842', 'LP002847', 'LP002855', 'LP002862', 'LP002863', 'LP002868', 'LP002872', 'LP002874', 'LP002877', 'LP002888', 'LP002892', 'LP002893', 'LP002894', 'LP002898', 'LP002911', 'LP002912', 'LP002916', 'LP002917', 'LP002925', 'LP002926', 'LP002928', 'LP002931', 'LP002933', 'LP002936', 'LP002938', 'LP002940', 'LP002941', 'LP002943', 'LP002945', 'LP002948', 'LP002949', 'LP002950', 'LP002953', 'LP002958', 'LP002959', 'LP002960', 'LP002961', 'LP002964', 'LP002974', 'LP002978', 'LP002979', 'LP002983', 'LP002984', 'LP002990'), dtype=tf.string, default_value=-1, num_oov_buckets=0), VocabularyListCategoricalColumn(key='Gender', vocabulary_list=('Male', 'Female', ''), dtype=tf.string, default_value=-1, num_oov_buckets=0), VocabularyListCategoricalColumn(key='Married', vocabulary_list=('No', 'Yes', ''), dtype=tf.string, default_value=-1, num_oov_buckets=0), VocabularyListCategoricalColumn(key='Education', vocabulary_list=('Graduate', 'Not Graduate'), dtype=tf.string, default_value=-1, num_oov_buckets=0), VocabularyListCategoricalColumn(key='Self_Employed', vocabulary_list=('No', 'Yes', ''), dtype=tf.string, default_value=-1, num_oov_buckets=0), VocabularyListCategoricalColumn(key='Property_Area', vocabulary_list=('Urban', 'Rural', 'Semiurban'), dtype=tf.string, default_value=-1, num_oov_buckets=0), NumericColumn(key='ApplicantIncome', shape=(1,), default_value=None, dtype=tf.float32, normalizer_fn=None), NumericColumn(key='CoapplicantIncome', shape=(1,), default_value=None, dtype=tf.float32, normalizer_fn=None), NumericColumn(key='LoanAmount', shape=(1,), default_value=None, dtype=tf.float32, normalizer_fn=None), NumericColumn(key='Loan_Amount_Term', shape=(1,), default_value=None, dtype=tf.float32, normalizer_fn=None), NumericColumn(key='Credit_History', shape=(1,), default_value=None, dtype=tf.float32, normalizer_fn=None), NumericColumn(key='Dependents', shape=(1,), default_value=None, dtype=tf.float32, normalizer_fn=None)]\n"
          ]
        }
      ]
    },
    {
      "cell_type": "markdown",
      "source": [
        "Define Input Functions for the Datasets"
      ],
      "metadata": {
        "id": "zHa1D1zjjF-x"
      }
    },
    {
      "cell_type": "code",
      "source": [
        "def make_input_fn(data_df, label_df, num_epochs=10, shuffle=True, batch_size=32):\n",
        "  def input_function(): \n",
        "    ds = tf.data.Dataset.from_tensor_slices((dict(data_df), label_df)) \n",
        "    if shuffle:\n",
        "      ds = ds.shuffle(1000)  \n",
        "    ds = ds.batch(batch_size).repeat(num_epochs)  \n",
        "    return ds  \n",
        "  return input_function\n",
        "\n",
        "def input_fn(features, batch_size=256):\n",
        "    # Convert the inputs to a Dataset without labels.\n",
        "    return tf.data.Dataset.from_tensor_slices(dict(features)).batch(batch_size)  \n",
        "\n",
        "train_input_fn = make_input_fn(dftrain, y_train)"
      ],
      "metadata": {
        "id": "m2GngdCQjKoD"
      },
      "execution_count": 154,
      "outputs": []
    },
    {
      "cell_type": "markdown",
      "source": [
        "Create and Train the Model"
      ],
      "metadata": {
        "id": "CmR1ZjY5lGlo"
      }
    },
    {
      "cell_type": "code",
      "source": [
        "linear_est = tf.estimator.LinearClassifier(feature_columns=feature_columns)\n",
        "linear_est.train(train_input_fn)"
      ],
      "metadata": {
        "id": "a9avfLAUlKOl"
      },
      "execution_count": null,
      "outputs": []
    },
    {
      "cell_type": "markdown",
      "source": [
        "Predicting and Testing with the Model "
      ],
      "metadata": {
        "id": "pcpDGbNN1qh7"
      }
    },
    {
      "cell_type": "code",
      "source": [
        "predictions = linear_est.predict(input_fn=lambda: input_fn(dfeval))\n",
        "\n",
        "for pred_dict in predictions:\n",
        "    class_id = pred_dict['class_ids'][0]\n",
        "    probability = pred_dict['probabilities'][class_id]\n",
        "\n",
        "    print('Prediction is \"{}\" ({:.1f}%)'.format(\n",
        "        class_id, 100 * probability))"
      ],
      "metadata": {
        "colab": {
          "base_uri": "https://localhost:8080/"
        },
        "id": "buPY0OwA4UNR",
        "outputId": "8b24bc47-c6cc-4a18-df57-2f442621caa8"
      },
      "execution_count": 169,
      "outputs": [
        {
          "output_type": "stream",
          "name": "stdout",
          "text": [
            "INFO:tensorflow:Calling model_fn.\n"
          ]
        },
        {
          "output_type": "stream",
          "name": "stderr",
          "text": [
            "INFO:tensorflow:Calling model_fn.\n",
            "/usr/local/lib/python3.7/dist-packages/tensorflow_estimator/python/estimator/canned/linear.py:1478: UserWarning: `layer.add_variable` is deprecated and will be removed in a future version. Please use `layer.add_weight` method instead.\n",
            "  getter=tf.compat.v1.get_variable)\n"
          ]
        },
        {
          "output_type": "stream",
          "name": "stdout",
          "text": [
            "INFO:tensorflow:Done calling model_fn.\n"
          ]
        },
        {
          "output_type": "stream",
          "name": "stderr",
          "text": [
            "INFO:tensorflow:Done calling model_fn.\n"
          ]
        },
        {
          "output_type": "stream",
          "name": "stdout",
          "text": [
            "INFO:tensorflow:Graph was finalized.\n"
          ]
        },
        {
          "output_type": "stream",
          "name": "stderr",
          "text": [
            "INFO:tensorflow:Graph was finalized.\n"
          ]
        },
        {
          "output_type": "stream",
          "name": "stdout",
          "text": [
            "INFO:tensorflow:Restoring parameters from /tmp/tmps77wrsow/model.ckpt-200\n"
          ]
        },
        {
          "output_type": "stream",
          "name": "stderr",
          "text": [
            "INFO:tensorflow:Restoring parameters from /tmp/tmps77wrsow/model.ckpt-200\n"
          ]
        },
        {
          "output_type": "stream",
          "name": "stdout",
          "text": [
            "INFO:tensorflow:Running local_init_op.\n"
          ]
        },
        {
          "output_type": "stream",
          "name": "stderr",
          "text": [
            "INFO:tensorflow:Running local_init_op.\n"
          ]
        },
        {
          "output_type": "stream",
          "name": "stdout",
          "text": [
            "INFO:tensorflow:Done running local_init_op.\n"
          ]
        },
        {
          "output_type": "stream",
          "name": "stderr",
          "text": [
            "INFO:tensorflow:Done running local_init_op.\n"
          ]
        },
        {
          "output_type": "stream",
          "name": "stdout",
          "text": [
            "Prediction is \"1\" (100.0%)\n",
            "Prediction is \"1\" (100.0%)\n",
            "Prediction is \"1\" (100.0%)\n",
            "Prediction is \"1\" (100.0%)\n",
            "Prediction is \"1\" (100.0%)\n",
            "Prediction is \"1\" (100.0%)\n",
            "Prediction is \"1\" (100.0%)\n",
            "Prediction is \"1\" (100.0%)\n",
            "Prediction is \"1\" (100.0%)\n",
            "Prediction is \"1\" (100.0%)\n",
            "Prediction is \"1\" (100.0%)\n",
            "Prediction is \"1\" (100.0%)\n",
            "Prediction is \"1\" (100.0%)\n",
            "Prediction is \"1\" (100.0%)\n",
            "Prediction is \"1\" (100.0%)\n",
            "Prediction is \"1\" (100.0%)\n",
            "Prediction is \"1\" (100.0%)\n",
            "Prediction is \"1\" (100.0%)\n",
            "Prediction is \"1\" (100.0%)\n",
            "Prediction is \"1\" (100.0%)\n",
            "Prediction is \"1\" (100.0%)\n",
            "Prediction is \"1\" (100.0%)\n",
            "Prediction is \"1\" (100.0%)\n",
            "Prediction is \"1\" (100.0%)\n",
            "Prediction is \"1\" (100.0%)\n",
            "Prediction is \"1\" (100.0%)\n",
            "Prediction is \"1\" (100.0%)\n",
            "Prediction is \"1\" (100.0%)\n",
            "Prediction is \"1\" (100.0%)\n",
            "Prediction is \"1\" (100.0%)\n",
            "Prediction is \"1\" (100.0%)\n",
            "Prediction is \"1\" (100.0%)\n",
            "Prediction is \"1\" (100.0%)\n",
            "Prediction is \"1\" (100.0%)\n",
            "Prediction is \"1\" (100.0%)\n",
            "Prediction is \"1\" (100.0%)\n",
            "Prediction is \"1\" (100.0%)\n",
            "Prediction is \"1\" (100.0%)\n",
            "Prediction is \"1\" (100.0%)\n",
            "Prediction is \"1\" (100.0%)\n",
            "Prediction is \"1\" (100.0%)\n",
            "Prediction is \"1\" (100.0%)\n",
            "Prediction is \"1\" (100.0%)\n",
            "Prediction is \"1\" (100.0%)\n",
            "Prediction is \"1\" (100.0%)\n",
            "Prediction is \"1\" (100.0%)\n",
            "Prediction is \"1\" (100.0%)\n",
            "Prediction is \"1\" (100.0%)\n",
            "Prediction is \"1\" (100.0%)\n",
            "Prediction is \"1\" (100.0%)\n",
            "Prediction is \"1\" (100.0%)\n",
            "Prediction is \"1\" (100.0%)\n",
            "Prediction is \"1\" (100.0%)\n",
            "Prediction is \"1\" (100.0%)\n",
            "Prediction is \"1\" (100.0%)\n",
            "Prediction is \"1\" (100.0%)\n",
            "Prediction is \"1\" (100.0%)\n",
            "Prediction is \"1\" (100.0%)\n",
            "Prediction is \"1\" (100.0%)\n",
            "Prediction is \"1\" (100.0%)\n",
            "Prediction is \"1\" (100.0%)\n",
            "Prediction is \"1\" (100.0%)\n",
            "Prediction is \"1\" (100.0%)\n",
            "Prediction is \"1\" (100.0%)\n",
            "Prediction is \"1\" (100.0%)\n",
            "Prediction is \"1\" (100.0%)\n",
            "Prediction is \"1\" (100.0%)\n",
            "Prediction is \"1\" (100.0%)\n",
            "Prediction is \"1\" (100.0%)\n",
            "Prediction is \"1\" (100.0%)\n",
            "Prediction is \"1\" (100.0%)\n",
            "Prediction is \"1\" (100.0%)\n",
            "Prediction is \"1\" (100.0%)\n",
            "Prediction is \"1\" (100.0%)\n",
            "Prediction is \"1\" (100.0%)\n",
            "Prediction is \"1\" (100.0%)\n",
            "Prediction is \"1\" (100.0%)\n",
            "Prediction is \"1\" (100.0%)\n",
            "Prediction is \"1\" (100.0%)\n",
            "Prediction is \"1\" (100.0%)\n",
            "Prediction is \"1\" (100.0%)\n",
            "Prediction is \"1\" (100.0%)\n",
            "Prediction is \"1\" (100.0%)\n",
            "Prediction is \"1\" (100.0%)\n",
            "Prediction is \"1\" (100.0%)\n",
            "Prediction is \"1\" (100.0%)\n",
            "Prediction is \"1\" (100.0%)\n",
            "Prediction is \"1\" (100.0%)\n",
            "Prediction is \"1\" (100.0%)\n",
            "Prediction is \"1\" (100.0%)\n",
            "Prediction is \"1\" (100.0%)\n",
            "Prediction is \"1\" (100.0%)\n",
            "Prediction is \"1\" (100.0%)\n",
            "Prediction is \"1\" (100.0%)\n",
            "Prediction is \"1\" (100.0%)\n",
            "Prediction is \"1\" (100.0%)\n",
            "Prediction is \"1\" (100.0%)\n",
            "Prediction is \"1\" (100.0%)\n",
            "Prediction is \"1\" (100.0%)\n",
            "Prediction is \"1\" (100.0%)\n",
            "Prediction is \"1\" (100.0%)\n",
            "Prediction is \"1\" (100.0%)\n",
            "Prediction is \"1\" (100.0%)\n",
            "Prediction is \"1\" (100.0%)\n",
            "Prediction is \"1\" (100.0%)\n",
            "Prediction is \"1\" (100.0%)\n",
            "Prediction is \"1\" (100.0%)\n",
            "Prediction is \"1\" (100.0%)\n",
            "Prediction is \"1\" (100.0%)\n",
            "Prediction is \"1\" (100.0%)\n",
            "Prediction is \"1\" (100.0%)\n",
            "Prediction is \"1\" (100.0%)\n",
            "Prediction is \"1\" (100.0%)\n",
            "Prediction is \"1\" (100.0%)\n",
            "Prediction is \"1\" (100.0%)\n",
            "Prediction is \"1\" (100.0%)\n",
            "Prediction is \"1\" (100.0%)\n",
            "Prediction is \"1\" (100.0%)\n",
            "Prediction is \"1\" (100.0%)\n",
            "Prediction is \"1\" (100.0%)\n",
            "Prediction is \"1\" (100.0%)\n",
            "Prediction is \"1\" (100.0%)\n",
            "Prediction is \"1\" (100.0%)\n",
            "Prediction is \"1\" (100.0%)\n",
            "Prediction is \"1\" (100.0%)\n",
            "Prediction is \"1\" (100.0%)\n",
            "Prediction is \"1\" (100.0%)\n",
            "Prediction is \"1\" (100.0%)\n",
            "Prediction is \"1\" (100.0%)\n",
            "Prediction is \"1\" (100.0%)\n",
            "Prediction is \"1\" (100.0%)\n",
            "Prediction is \"1\" (100.0%)\n",
            "Prediction is \"1\" (100.0%)\n",
            "Prediction is \"1\" (100.0%)\n",
            "Prediction is \"1\" (100.0%)\n",
            "Prediction is \"1\" (100.0%)\n",
            "Prediction is \"1\" (100.0%)\n",
            "Prediction is \"1\" (100.0%)\n",
            "Prediction is \"1\" (100.0%)\n",
            "Prediction is \"1\" (100.0%)\n",
            "Prediction is \"1\" (100.0%)\n",
            "Prediction is \"1\" (100.0%)\n",
            "Prediction is \"1\" (100.0%)\n",
            "Prediction is \"1\" (100.0%)\n",
            "Prediction is \"1\" (100.0%)\n",
            "Prediction is \"1\" (100.0%)\n",
            "Prediction is \"1\" (100.0%)\n",
            "Prediction is \"1\" (100.0%)\n",
            "Prediction is \"1\" (100.0%)\n",
            "Prediction is \"1\" (100.0%)\n",
            "Prediction is \"1\" (100.0%)\n",
            "Prediction is \"1\" (100.0%)\n",
            "Prediction is \"1\" (100.0%)\n",
            "Prediction is \"1\" (100.0%)\n",
            "Prediction is \"1\" (100.0%)\n",
            "Prediction is \"1\" (100.0%)\n",
            "Prediction is \"1\" (100.0%)\n",
            "Prediction is \"1\" (100.0%)\n",
            "Prediction is \"1\" (100.0%)\n",
            "Prediction is \"1\" (100.0%)\n",
            "Prediction is \"1\" (100.0%)\n",
            "Prediction is \"1\" (100.0%)\n",
            "Prediction is \"1\" (100.0%)\n",
            "Prediction is \"1\" (100.0%)\n",
            "Prediction is \"1\" (100.0%)\n",
            "Prediction is \"1\" (100.0%)\n",
            "Prediction is \"1\" (100.0%)\n",
            "Prediction is \"1\" (100.0%)\n",
            "Prediction is \"1\" (100.0%)\n",
            "Prediction is \"1\" (100.0%)\n",
            "Prediction is \"1\" (100.0%)\n",
            "Prediction is \"1\" (100.0%)\n",
            "Prediction is \"1\" (100.0%)\n",
            "Prediction is \"1\" (100.0%)\n",
            "Prediction is \"1\" (100.0%)\n",
            "Prediction is \"1\" (100.0%)\n",
            "Prediction is \"1\" (100.0%)\n",
            "Prediction is \"1\" (100.0%)\n",
            "Prediction is \"1\" (100.0%)\n",
            "Prediction is \"1\" (100.0%)\n",
            "Prediction is \"1\" (100.0%)\n",
            "Prediction is \"1\" (100.0%)\n",
            "Prediction is \"1\" (100.0%)\n",
            "Prediction is \"1\" (100.0%)\n",
            "Prediction is \"1\" (100.0%)\n",
            "Prediction is \"1\" (100.0%)\n",
            "Prediction is \"1\" (100.0%)\n",
            "Prediction is \"1\" (100.0%)\n",
            "Prediction is \"1\" (100.0%)\n",
            "Prediction is \"1\" (100.0%)\n",
            "Prediction is \"1\" (100.0%)\n",
            "Prediction is \"1\" (100.0%)\n",
            "Prediction is \"1\" (100.0%)\n",
            "Prediction is \"1\" (100.0%)\n",
            "Prediction is \"1\" (100.0%)\n",
            "Prediction is \"1\" (100.0%)\n",
            "Prediction is \"1\" (100.0%)\n",
            "Prediction is \"1\" (100.0%)\n",
            "Prediction is \"1\" (100.0%)\n",
            "Prediction is \"1\" (100.0%)\n",
            "Prediction is \"1\" (100.0%)\n",
            "Prediction is \"1\" (100.0%)\n",
            "Prediction is \"1\" (100.0%)\n",
            "Prediction is \"1\" (100.0%)\n",
            "Prediction is \"1\" (100.0%)\n",
            "Prediction is \"1\" (100.0%)\n",
            "Prediction is \"1\" (100.0%)\n",
            "Prediction is \"1\" (100.0%)\n",
            "Prediction is \"1\" (100.0%)\n",
            "Prediction is \"1\" (100.0%)\n",
            "Prediction is \"1\" (100.0%)\n",
            "Prediction is \"1\" (100.0%)\n",
            "Prediction is \"1\" (100.0%)\n",
            "Prediction is \"1\" (100.0%)\n",
            "Prediction is \"1\" (100.0%)\n",
            "Prediction is \"1\" (100.0%)\n",
            "Prediction is \"1\" (100.0%)\n",
            "Prediction is \"1\" (100.0%)\n",
            "Prediction is \"1\" (100.0%)\n",
            "Prediction is \"1\" (100.0%)\n",
            "Prediction is \"1\" (100.0%)\n",
            "Prediction is \"1\" (100.0%)\n",
            "Prediction is \"1\" (100.0%)\n",
            "Prediction is \"1\" (100.0%)\n",
            "Prediction is \"1\" (100.0%)\n",
            "Prediction is \"1\" (100.0%)\n",
            "Prediction is \"1\" (100.0%)\n",
            "Prediction is \"1\" (100.0%)\n",
            "Prediction is \"1\" (100.0%)\n",
            "Prediction is \"1\" (100.0%)\n",
            "Prediction is \"1\" (100.0%)\n",
            "Prediction is \"1\" (100.0%)\n",
            "Prediction is \"1\" (100.0%)\n",
            "Prediction is \"1\" (100.0%)\n",
            "Prediction is \"1\" (100.0%)\n",
            "Prediction is \"1\" (100.0%)\n",
            "Prediction is \"1\" (100.0%)\n",
            "Prediction is \"1\" (100.0%)\n",
            "Prediction is \"1\" (100.0%)\n",
            "Prediction is \"1\" (100.0%)\n",
            "Prediction is \"1\" (100.0%)\n",
            "Prediction is \"1\" (100.0%)\n",
            "Prediction is \"1\" (100.0%)\n",
            "Prediction is \"1\" (100.0%)\n",
            "Prediction is \"1\" (100.0%)\n",
            "Prediction is \"1\" (100.0%)\n",
            "Prediction is \"1\" (100.0%)\n",
            "Prediction is \"1\" (100.0%)\n",
            "Prediction is \"1\" (100.0%)\n",
            "Prediction is \"1\" (100.0%)\n",
            "Prediction is \"1\" (100.0%)\n",
            "Prediction is \"1\" (100.0%)\n",
            "Prediction is \"1\" (100.0%)\n",
            "Prediction is \"1\" (100.0%)\n",
            "Prediction is \"1\" (100.0%)\n",
            "Prediction is \"1\" (100.0%)\n",
            "Prediction is \"1\" (100.0%)\n",
            "Prediction is \"1\" (100.0%)\n",
            "Prediction is \"1\" (100.0%)\n",
            "Prediction is \"1\" (100.0%)\n",
            "Prediction is \"1\" (100.0%)\n",
            "Prediction is \"1\" (100.0%)\n",
            "Prediction is \"1\" (100.0%)\n",
            "Prediction is \"1\" (100.0%)\n",
            "Prediction is \"1\" (100.0%)\n",
            "Prediction is \"1\" (100.0%)\n",
            "Prediction is \"1\" (100.0%)\n",
            "Prediction is \"1\" (100.0%)\n",
            "Prediction is \"1\" (100.0%)\n",
            "Prediction is \"1\" (100.0%)\n",
            "Prediction is \"1\" (100.0%)\n",
            "Prediction is \"1\" (100.0%)\n",
            "Prediction is \"1\" (100.0%)\n",
            "Prediction is \"1\" (100.0%)\n",
            "Prediction is \"1\" (100.0%)\n",
            "Prediction is \"1\" (100.0%)\n",
            "Prediction is \"1\" (100.0%)\n",
            "Prediction is \"1\" (100.0%)\n",
            "Prediction is \"1\" (100.0%)\n",
            "Prediction is \"1\" (100.0%)\n",
            "Prediction is \"1\" (100.0%)\n",
            "Prediction is \"1\" (100.0%)\n",
            "Prediction is \"1\" (100.0%)\n",
            "Prediction is \"1\" (100.0%)\n",
            "Prediction is \"1\" (100.0%)\n",
            "Prediction is \"1\" (100.0%)\n",
            "Prediction is \"1\" (100.0%)\n",
            "Prediction is \"1\" (100.0%)\n",
            "Prediction is \"1\" (100.0%)\n",
            "Prediction is \"1\" (100.0%)\n",
            "Prediction is \"1\" (100.0%)\n",
            "Prediction is \"1\" (100.0%)\n",
            "Prediction is \"1\" (100.0%)\n",
            "Prediction is \"1\" (100.0%)\n",
            "Prediction is \"1\" (100.0%)\n",
            "Prediction is \"1\" (100.0%)\n",
            "Prediction is \"1\" (100.0%)\n",
            "Prediction is \"1\" (100.0%)\n",
            "Prediction is \"1\" (100.0%)\n",
            "Prediction is \"1\" (100.0%)\n",
            "Prediction is \"1\" (100.0%)\n",
            "Prediction is \"1\" (100.0%)\n",
            "Prediction is \"1\" (100.0%)\n",
            "Prediction is \"1\" (100.0%)\n",
            "Prediction is \"1\" (100.0%)\n",
            "Prediction is \"1\" (100.0%)\n",
            "Prediction is \"1\" (100.0%)\n",
            "Prediction is \"1\" (100.0%)\n",
            "Prediction is \"1\" (100.0%)\n",
            "Prediction is \"1\" (100.0%)\n",
            "Prediction is \"1\" (100.0%)\n",
            "Prediction is \"1\" (100.0%)\n",
            "Prediction is \"1\" (100.0%)\n",
            "Prediction is \"1\" (100.0%)\n",
            "Prediction is \"1\" (100.0%)\n",
            "Prediction is \"1\" (100.0%)\n",
            "Prediction is \"1\" (100.0%)\n",
            "Prediction is \"1\" (100.0%)\n",
            "Prediction is \"1\" (100.0%)\n",
            "Prediction is \"1\" (100.0%)\n",
            "Prediction is \"1\" (100.0%)\n",
            "Prediction is \"1\" (100.0%)\n",
            "Prediction is \"1\" (100.0%)\n",
            "Prediction is \"1\" (100.0%)\n",
            "Prediction is \"1\" (100.0%)\n",
            "Prediction is \"1\" (100.0%)\n",
            "Prediction is \"1\" (100.0%)\n",
            "Prediction is \"1\" (100.0%)\n",
            "Prediction is \"1\" (100.0%)\n",
            "Prediction is \"1\" (100.0%)\n",
            "Prediction is \"1\" (100.0%)\n",
            "Prediction is \"1\" (100.0%)\n",
            "Prediction is \"1\" (100.0%)\n",
            "Prediction is \"1\" (100.0%)\n",
            "Prediction is \"1\" (100.0%)\n",
            "Prediction is \"1\" (100.0%)\n",
            "Prediction is \"1\" (100.0%)\n",
            "Prediction is \"1\" (100.0%)\n",
            "Prediction is \"1\" (100.0%)\n",
            "Prediction is \"1\" (100.0%)\n",
            "Prediction is \"1\" (100.0%)\n",
            "Prediction is \"1\" (100.0%)\n",
            "Prediction is \"1\" (100.0%)\n",
            "Prediction is \"1\" (100.0%)\n",
            "Prediction is \"1\" (100.0%)\n",
            "Prediction is \"1\" (100.0%)\n",
            "Prediction is \"1\" (100.0%)\n",
            "Prediction is \"1\" (100.0%)\n",
            "Prediction is \"1\" (100.0%)\n",
            "Prediction is \"1\" (100.0%)\n",
            "Prediction is \"1\" (100.0%)\n",
            "Prediction is \"1\" (100.0%)\n",
            "Prediction is \"1\" (100.0%)\n",
            "Prediction is \"1\" (100.0%)\n",
            "Prediction is \"1\" (100.0%)\n",
            "Prediction is \"1\" (100.0%)\n",
            "Prediction is \"1\" (100.0%)\n",
            "Prediction is \"1\" (100.0%)\n",
            "Prediction is \"1\" (100.0%)\n",
            "Prediction is \"1\" (100.0%)\n",
            "Prediction is \"1\" (100.0%)\n",
            "Prediction is \"1\" (100.0%)\n",
            "Prediction is \"1\" (100.0%)\n",
            "Prediction is \"1\" (100.0%)\n",
            "Prediction is \"1\" (100.0%)\n",
            "Prediction is \"1\" (100.0%)\n",
            "Prediction is \"1\" (100.0%)\n"
          ]
        }
      ]
    },
    {
      "cell_type": "markdown",
      "source": [
        ""
      ],
      "metadata": {
        "id": "xw5h8z-75e0R"
      }
    }
  ]
}